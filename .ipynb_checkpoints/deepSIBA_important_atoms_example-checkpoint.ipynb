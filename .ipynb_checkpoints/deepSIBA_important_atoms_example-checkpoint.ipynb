{
 "cells": [
  {
   "cell_type": "code",
   "execution_count": 1,
   "metadata": {},
   "outputs": [],
   "source": [
    "import tensorflow as tf\n",
    "import os\n",
    "os.environ['TF_FORCE_GPU_ALLOW_GROWTH'] = 'true'"
   ]
  },
  {
   "cell_type": "markdown",
   "metadata": {},
   "source": [
    "**Note** : if you encounter an error running any of the examples below consider restarting the kernel and running this cell first"
   ]
  },
  {
   "cell_type": "markdown",
   "metadata": {
    "id": "JMRsX2nd1JTs"
   },
   "source": [
    "# Load dependencies"
   ]
  },
  {
   "cell_type": "code",
   "execution_count": 2,
   "metadata": {
    "id": "_OQcgXnt1RzD"
   },
   "outputs": [],
   "source": [
    "from __future__ import division, print_function\n",
    "import numpy as np\n",
    "from numpy import inf, ndarray\n",
    "import pandas as pd\n",
    "import matplotlib.pyplot as plt\n",
    "import tensorflow as tf\n",
    "import os\n",
    "import random\n",
    "import keras\n",
    "import re\n",
    "from keras import optimizers\n",
    "from keras import losses\n",
    "from keras import regularizers\n",
    "import keras.backend as K\n",
    "from keras.models import model_from_json\n",
    "from keras.models import load_model, Model\n",
    "from tempfile import TemporaryFile\n",
    "from keras import layers\n",
    "from rdkit import Chem\n",
    "from rdkit.Chem import Draw, Descriptors\n",
    "from matplotlib import pyplot as plt\n",
    "# matplotlib inline\n",
    "from keras.callbacks import History, ReduceLROnPlateau\n",
    "from keras.layers import Input, BatchNormalization, Activation\n",
    "from keras.layers import Dense, Bidirectional, Dropout, Layer\n",
    "from keras.initializers import glorot_normal\n",
    "from keras.regularizers import l2\n",
    "from functools import partial\n",
    "from multiprocessing import cpu_count, Pool\n",
    "from keras.utils.generic_utils import Progbar\n",
    "from copy import deepcopy\n",
    "from NGF.utils import filter_func_args, mol_shapes_to_dims\n",
    "import NGF.utils\n",
    "import NGF_layers.features\n",
    "import NGF_layers.graph_layers\n",
    "from NGF_layers.features import one_of_k_encoding, one_of_k_encoding_unk, atom_features, bond_features, num_atom_features, num_bond_features\n",
    "from NGF_layers.features import padaxis, tensorise_smiles, concat_mol_tensors\n",
    "from NGF_layers.graph_layers import temporal_padding, neighbour_lookup, NeuralGraphHidden, NeuralGraphOutput\n",
    "from math import ceil\n",
    "from utility.gaussian import GaussianLayer, custom_loss, ConGaussianLayer\n",
    "from utility.evaluator import r_square, get_cindex, pearson_r,custom_mse, mse_sliced, model_evaluate\n",
    "from utility.Generator import train_generator,preds_generator\n",
    "from deepSIBA_model import enc_graph, siamese_model, deepsiba_model"
   ]
  },
  {
   "cell_type": "markdown",
   "metadata": {
    "id": "ecvQZVKQ1cq7"
   },
   "source": [
    "# Load all smiles of train data\n"
   ]
  },
  {
   "cell_type": "code",
   "execution_count": 3,
   "metadata": {
    "id": "a4Si7e5F1dIz"
   },
   "outputs": [],
   "source": [
    "#Load unique smiles and tensorize them\n",
    "smiles = pd.read_csv('../deepSIBA/learning/data/mcf7/mcf7q1smiles.csv',index_col=0)\n",
    "\n",
    "X_atoms, X_bonds, X_edges = tensorise_smiles(smiles.x, max_degree=5, max_atoms = 60)"
   ]
  },
  {
   "cell_type": "code",
   "execution_count": 4,
   "metadata": {
    "id": "3R1GRdHC1iQo"
   },
   "outputs": [],
   "source": [
    "smiles=list(smiles['x'])"
   ]
  },
  {
   "cell_type": "code",
   "execution_count": 5,
   "metadata": {
    "id": "DyaOYU6e1i77"
   },
   "outputs": [],
   "source": [
    "#num_molecules = len(df)\n",
    "max_atoms = 60\n",
    "max_degree = 5\n",
    "num_atom_features = 62\n",
    "num_bond_features = 6"
   ]
  },
  {
   "cell_type": "code",
   "execution_count": 6,
   "metadata": {
    "id": "LZqE1fky2XdQ"
   },
   "outputs": [],
   "source": [
    "#model_params\n",
    "model_params = {\n",
    "    \"max_atoms\" : int(60), \"num_atom_features\" : int(62), \"max_degree\" : int(5), \"num_bond_features\" : int(6),\n",
    "    \"graph_conv_width\" : [128,128,128], \"conv1d_filters\" : int(128), \"conv1d_size\" : int(29), \"dropout_encoder\" : 0.25,\n",
    "    \"conv1d_filters_dist\" : [128,128], \"conv1d_size_dist\" : [17,1], \"dropout_dist\" : 0.25, \"pool_size\" : int(4),\n",
    "    \"dense_size\" : [256,128,128], \"l2reg\" : 0.01, \"dist_thresh\" : 0.2, \"lr\" : 0.001 ,\"ConGauss\": False\n",
    "}"
   ]
  },
  {
   "cell_type": "markdown",
   "metadata": {
    "id": "PF0-AW_h1mcY"
   },
   "source": [
    "# Load libraries for visualization later"
   ]
  },
  {
   "cell_type": "code",
   "execution_count": 7,
   "metadata": {
    "id": "o6aDLoD41xw5"
   },
   "outputs": [
    {
     "name": "stdout",
     "output_type": "stream",
     "text": [
      "2020.09.1\n"
     ]
    }
   ],
   "source": [
    "from __future__ import print_function\n",
    "from rdkit import Chem\n",
    "from rdkit.Chem.Draw import IPythonConsole\n",
    "from IPython.display import SVG\n",
    "from rdkit.Chem.Draw.MolDrawing import MolDrawing, DrawingOptions #Only needed if modifying defaults\n",
    "from rdkit.Chem import ChemicalFeatures\n",
    "from rdkit import rdBase\n",
    "from rdkit.RDPaths import RDDocsDir\n",
    "from rdkit.RDPaths import RDDataDir\n",
    "import os\n",
    "from rdkit.Chem import AllChem\n",
    "print(rdBase.rdkitVersion)\n",
    "IPythonConsole.ipython_useSVG=True"
   ]
  },
  {
   "cell_type": "code",
   "execution_count": 8,
   "metadata": {
    "id": "rwNJboby1zXt"
   },
   "outputs": [],
   "source": [
    "from rdkit.Chem import rdDepictor\n",
    "from rdkit.Chem.Draw import rdMolDraw2D\n",
    "def moltosvg(mol,molSize=(450,150),kekulize=True):\n",
    "    mc = Chem.Mol(mol.ToBinary())\n",
    "    if kekulize:\n",
    "        try:\n",
    "            Chem.Kekulize(mc)\n",
    "        except:\n",
    "            mc = Chem.Mol(mol.ToBinary())\n",
    "    if not mc.GetNumConformers():\n",
    "        rdDepictor.Compute2DCoords(mc)\n",
    "    drawer = rdMolDraw2D.MolDraw2DSVG(molSize[0],molSize[1])\n",
    "    drawer.DrawMolecule(mc)\n",
    "    drawer.FinishDrawing()\n",
    "    svg = drawer.GetDrawingText()\n",
    "    # It seems that the svg renderer used doesn't quite hit the spec.\n",
    "    # Here are some fixes to make it work in the notebook, although I think\n",
    "    # the underlying issue needs to be resolved at the generation step\n",
    "    return svg.replace('svg:','')"
   ]
  },
  {
   "cell_type": "markdown",
   "metadata": {
    "id": "z9ew7tsP12IT"
   },
   "source": [
    "# Example for important atoms visualization"
   ]
  },
  {
   "cell_type": "code",
   "execution_count": 9,
   "metadata": {
    "id": "d0KL_5BN14UR"
   },
   "outputs": [],
   "source": [
    "def atoms_colors(m1,atoms_grad,colors_at,num_atoms):\n",
    "    atom_ind=[]\n",
    "    for i in range(num_atoms):\n",
    "        if atoms_grad[i]>np.mean(atoms_grad):\n",
    "        #if atoms_grad[i]>0:\n",
    "            #c=tuple(((atoms_grad[i]-np.min(atoms_grad))/(np.max(atoms_grad)-np.min(atoms_grad)))[0]*a+b for a,b in zip((0,-1,0),(1,1,0)))\n",
    "            #c=tuple(((atoms_grad[i]-np.min(atoms_grad))/(np.max(atoms_grad)-np.min(atoms_grad)))*a+b for a,b in zip((0,-1,0),(1,1,0)))\n",
    "            c=tuple(((atoms_grad[i]-np.mean(atoms_grad))/(np.max(atoms_grad)-np.mean(atoms_grad)))*a+b for a,b in zip((0,-1,0),(1,1,0)))\n",
    "            colors_at.update( {i : c} )\n",
    "            atom_ind.append(i)\n",
    "    return(colors_at,atom_ind)"
   ]
  },
  {
   "cell_type": "code",
   "execution_count": 10,
   "metadata": {
    "id": "cDFGkErl15_j"
   },
   "outputs": [],
   "source": [
    "#Fludarabine\n",
    "smi_query=[\"Nc1nc(F)nc2c1ncn2C1OC(CO)C(O)C1O\"]\n",
    "smis_list=[\"Cn1cc(C2=C(c3cn(CCCSC(=N)N)c4ccccc34)C(=O)NC2=O)c2ccccc21\",\n",
    "           \"O=[N+]([O-])c1ccc2[nH]c(CNc3nc(N4CCOCC4)nc4c3ncn4-c3ccsc3)nc2c1\",\n",
    "           \"Cn1c(=O)cc(OCCCC(=O)Nc2cc(C(F)(F)F)ccn2)c2ccccc21\",\n",
    "           \"FC(F)(F)c1ccc2[nH]c(CNc3nc(N4CCOCC4)nc4c3ncn4-c3ccsc3)nc2c1\",\n",
    "           \"CCC1(O)C(=O)OCc2c1cc1n(c2=O)Cc2cc3c(CN(C)C)c(O)ccc3nc2-1\",\n",
    "           \"OCCCNc1cc(-c2ccnc(Nc3cccc(Cl)c3)n2)ccn1\",\n",
    "           \"N#Cc1cc(-c2ccnc(Nc3ccc(-n4cnc(-c5cccnc5)n4)cc3)n2)cc(N2CCOCC2)c1\",\n",
    "           \"CN(c1ncccc1CNc1nc(Nc2ccc3c(c2)CC(=O)N3)ncc1C(F)(F)F)S(C)(=O)=O\",\n",
    "           \"Cc1ccc(F)c(NC(=O)Nc2ccc(-c3cccc4[nH]nc(N)c34)cc2)c1\"]"
   ]
  },
  {
   "cell_type": "code",
   "execution_count": 11,
   "metadata": {},
   "outputs": [],
   "source": [
    "mod=0"
   ]
  },
  {
   "cell_type": "code",
   "execution_count": 16,
   "metadata": {},
   "outputs": [],
   "source": [
    "with tf.GradientTape() as tape:\n",
    "    #(outputTensor, sigma) = tf.split(siamese_net.output, num_or_size_splits=[-1, 1], axis=-1)\n",
    "    #inputTensor = siamese_net.input\n",
    "    #mod=0\n",
    "    ##siamese_net=deepsiba_model(model_params)\n",
    "    #siamese_net.load_weights(f'trained_models/mcf7/models/model_{mod}.h5')\n",
    "    yout=siamese_net([atom_1,bond_1,edge_1,atom_2,bond_2,edge_2])\n",
    "    xin=[tf.Variable(atom_1),tf.Variable(bond_1),tf.Variable(edge_1),tf.Variable(atom_2),tf.Variable(bond_2),tf.Variable(edge_2)]\n",
    "    #grad = tape.gradient(siamese_net.output, siamese_net.input)"
   ]
  },
  {
   "cell_type": "code",
   "execution_count": 12,
   "metadata": {},
   "outputs": [],
   "source": [
    "import tensorflow as tf\n",
    "from tensorflow.python.framework.ops import disable_eager_execution\n",
    "\n",
    "disable_eager_execution()"
   ]
  },
  {
   "cell_type": "code",
   "execution_count": 13,
   "metadata": {},
   "outputs": [],
   "source": [
    "sess = tf.compat.v1.Session()"
   ]
  },
  {
   "cell_type": "code",
   "execution_count": 14,
   "metadata": {},
   "outputs": [
    {
     "name": "stdout",
     "output_type": "stream",
     "text": [
      "WARNING:tensorflow:From /home/biolab/miniconda3/envs/tf2/lib/python3.8/site-packages/tensorflow/python/ops/resource_variable_ops.py:1659: calling BaseResourceVariable.__init__ (from tensorflow.python.ops.resource_variable_ops) with constraint is deprecated and will be removed in a future version.\n",
      "Instructions for updating:\n",
      "If using Keras pass *_constraint arguments to layers.\n"
     ]
    }
   ],
   "source": [
    "siamese_net=deepsiba_model(model_params)"
   ]
  },
  {
   "cell_type": "code",
   "execution_count": 15,
   "metadata": {},
   "outputs": [],
   "source": [
    "siamese_net.load_weights(f'trained_models/mcf7/models/model_{mod}.h5')"
   ]
  },
  {
   "cell_type": "code",
   "execution_count": 16,
   "metadata": {},
   "outputs": [],
   "source": [
    "(outputTensor, sigma) = tf.split(siamese_net.output, num_or_size_splits=[-1, 1], axis=-1)"
   ]
  },
  {
   "cell_type": "code",
   "execution_count": 17,
   "metadata": {},
   "outputs": [],
   "source": [
    "inputTensor = siamese_net.input"
   ]
  },
  {
   "cell_type": "code",
   "execution_count": 18,
   "metadata": {
    "scrolled": true
   },
   "outputs": [],
   "source": [
    "grad = K.gradients(outputTensor, inputTensor)"
   ]
  },
  {
   "cell_type": "code",
   "execution_count": 19,
   "metadata": {},
   "outputs": [],
   "source": [
    "grad=[grad[0],grad[1],grad[3],grad[4]]"
   ]
  },
  {
   "cell_type": "code",
   "execution_count": 20,
   "metadata": {},
   "outputs": [
    {
     "data": {
      "text/plain": [
       "[<tf.Tensor 'gradients/AddN_41:0' shape=(None, 60, 62) dtype=float32>,\n",
       " <tf.Tensor 'gradients/AddN_39:0' shape=(None, 60, 5, 6) dtype=float32>,\n",
       " <tf.Tensor 'gradients/AddN_42:0' shape=(None, 60, 62) dtype=float32>,\n",
       " <tf.Tensor 'gradients/AddN_40:0' shape=(None, 60, 5, 6) dtype=float32>]"
      ]
     },
     "execution_count": 20,
     "metadata": {},
     "output_type": "execute_result"
    }
   ],
   "source": [
    "grad"
   ]
  },
  {
   "cell_type": "code",
   "execution_count": 23,
   "metadata": {
    "scrolled": true
   },
   "outputs": [
    {
     "ename": "FailedPreconditionError",
     "evalue": "2 root error(s) found.\n  (0) Failed precondition: Error while reading resource variable siamese_model/dense_1/kernel from Container: localhost. This could mean that the variable was uninitialized. Not found: Container localhost does not exist. (Could not find resource: localhost/siamese_model/dense_1/kernel)\n\t [[node siamese_model/dense_1/MatMul/ReadVariableOp (defined at /home/biolab/Documents/deepSIBA_tf2/deepSIBA_model.py:159) ]]\n\t [[Func/gradients/siamese_model/dropout_4/cond_grad/StatelessIf/then/_757/input/_2094/_259]]\n  (1) Failed precondition: Error while reading resource variable siamese_model/dense_1/kernel from Container: localhost. This could mean that the variable was uninitialized. Not found: Container localhost does not exist. (Could not find resource: localhost/siamese_model/dense_1/kernel)\n\t [[node siamese_model/dense_1/MatMul/ReadVariableOp (defined at /home/biolab/Documents/deepSIBA_tf2/deepSIBA_model.py:159) ]]\n0 successful operations.\n0 derived errors ignored.\n\nOriginal stack trace for 'siamese_model/dense_1/MatMul/ReadVariableOp':\n  File \"/home/biolab/miniconda3/envs/tf2/lib/python3.8/runpy.py\", line 194, in _run_module_as_main\n    return _run_code(code, main_globals, None,\n  File \"/home/biolab/miniconda3/envs/tf2/lib/python3.8/runpy.py\", line 87, in _run_code\n    exec(code, run_globals)\n  File \"/home/biolab/miniconda3/envs/tf2/lib/python3.8/site-packages/ipykernel_launcher.py\", line 16, in <module>\n    app.launch_new_instance()\n  File \"/home/biolab/miniconda3/envs/tf2/lib/python3.8/site-packages/traitlets/config/application.py\", line 845, in launch_instance\n    app.start()\n  File \"/home/biolab/miniconda3/envs/tf2/lib/python3.8/site-packages/ipykernel/kernelapp.py\", line 612, in start\n    self.io_loop.start()\n  File \"/home/biolab/miniconda3/envs/tf2/lib/python3.8/site-packages/tornado/platform/asyncio.py\", line 199, in start\n    self.asyncio_loop.run_forever()\n  File \"/home/biolab/miniconda3/envs/tf2/lib/python3.8/asyncio/base_events.py\", line 570, in run_forever\n    self._run_once()\n  File \"/home/biolab/miniconda3/envs/tf2/lib/python3.8/asyncio/base_events.py\", line 1859, in _run_once\n    handle._run()\n  File \"/home/biolab/miniconda3/envs/tf2/lib/python3.8/asyncio/events.py\", line 81, in _run\n    self._context.run(self._callback, *self._args)\n  File \"/home/biolab/miniconda3/envs/tf2/lib/python3.8/site-packages/tornado/ioloop.py\", line 688, in <lambda>\n    lambda f: self._run_callback(functools.partial(callback, future))\n  File \"/home/biolab/miniconda3/envs/tf2/lib/python3.8/site-packages/tornado/ioloop.py\", line 741, in _run_callback\n    ret = callback()\n  File \"/home/biolab/miniconda3/envs/tf2/lib/python3.8/site-packages/tornado/gen.py\", line 814, in inner\n    self.ctx_run(self.run)\n  File \"/home/biolab/miniconda3/envs/tf2/lib/python3.8/site-packages/tornado/gen.py\", line 775, in run\n    yielded = self.gen.send(value)\n  File \"/home/biolab/miniconda3/envs/tf2/lib/python3.8/site-packages/ipykernel/kernelbase.py\", line 365, in process_one\n    yield gen.maybe_future(dispatch(*args))\n  File \"/home/biolab/miniconda3/envs/tf2/lib/python3.8/site-packages/tornado/gen.py\", line 234, in wrapper\n    yielded = ctx_run(next, result)\n  File \"/home/biolab/miniconda3/envs/tf2/lib/python3.8/site-packages/ipykernel/kernelbase.py\", line 268, in dispatch_shell\n    yield gen.maybe_future(handler(stream, idents, msg))\n  File \"/home/biolab/miniconda3/envs/tf2/lib/python3.8/site-packages/tornado/gen.py\", line 234, in wrapper\n    yielded = ctx_run(next, result)\n  File \"/home/biolab/miniconda3/envs/tf2/lib/python3.8/site-packages/ipykernel/kernelbase.py\", line 543, in execute_request\n    self.do_execute(\n  File \"/home/biolab/miniconda3/envs/tf2/lib/python3.8/site-packages/tornado/gen.py\", line 234, in wrapper\n    yielded = ctx_run(next, result)\n  File \"/home/biolab/miniconda3/envs/tf2/lib/python3.8/site-packages/ipykernel/ipkernel.py\", line 306, in do_execute\n    res = shell.run_cell(code, store_history=store_history, silent=silent)\n  File \"/home/biolab/miniconda3/envs/tf2/lib/python3.8/site-packages/ipykernel/zmqshell.py\", line 536, in run_cell\n    return super(ZMQInteractiveShell, self).run_cell(*args, **kwargs)\n  File \"/home/biolab/miniconda3/envs/tf2/lib/python3.8/site-packages/IPython/core/interactiveshell.py\", line 2877, in run_cell\n    result = self._run_cell(\n  File \"/home/biolab/miniconda3/envs/tf2/lib/python3.8/site-packages/IPython/core/interactiveshell.py\", line 2923, in _run_cell\n    return runner(coro)\n  File \"/home/biolab/miniconda3/envs/tf2/lib/python3.8/site-packages/IPython/core/async_helpers.py\", line 68, in _pseudo_sync_runner\n    coro.send(None)\n  File \"/home/biolab/miniconda3/envs/tf2/lib/python3.8/site-packages/IPython/core/interactiveshell.py\", line 3146, in run_cell_async\n    has_raised = await self.run_ast_nodes(code_ast.body, cell_name,\n  File \"/home/biolab/miniconda3/envs/tf2/lib/python3.8/site-packages/IPython/core/interactiveshell.py\", line 3338, in run_ast_nodes\n    if (await self.run_code(code, result,  async_=asy)):\n  File \"/home/biolab/miniconda3/envs/tf2/lib/python3.8/site-packages/IPython/core/interactiveshell.py\", line 3418, in run_code\n    exec(code_obj, self.user_global_ns, self.user_ns)\n  File \"<ipython-input-14-54aeb7c64199>\", line 1, in <module>\n    siamese_net=deepsiba_model(model_params)\n  File \"/home/biolab/Documents/deepSIBA_tf2/deepSIBA_model.py\", line 199, in deepsiba_model\n    emb=siamese_model(params)(atoms0_1,bonds_1,edges_1,atoms0_2,bonds_2,edges_2)\n  File \"/home/biolab/miniconda3/envs/tf2/lib/python3.8/site-packages/tensorflow/python/keras/engine/base_layer_v1.py\", line 778, in __call__\n    outputs = call_fn(cast_inputs, *args, **kwargs)\n  File \"/home/biolab/Documents/deepSIBA_tf2/deepSIBA_model.py\", line 159, in call\n    x = self.dense2(x)\n  File \"/home/biolab/miniconda3/envs/tf2/lib/python3.8/site-packages/tensorflow/python/keras/engine/base_layer_v1.py\", line 778, in __call__\n    outputs = call_fn(cast_inputs, *args, **kwargs)\n  File \"/home/biolab/miniconda3/envs/tf2/lib/python3.8/site-packages/tensorflow/python/keras/layers/core.py\", line 1194, in call\n    outputs = gen_math_ops.mat_mul(inputs, self.kernel)\n  File \"/home/biolab/miniconda3/envs/tf2/lib/python3.8/site-packages/tensorflow/python/ops/gen_math_ops.py\", line 5585, in mat_mul\n    _, _, _op, _outputs = _op_def_library._apply_op_helper(\n  File \"/home/biolab/miniconda3/envs/tf2/lib/python3.8/site-packages/tensorflow/python/framework/op_def_library.py\", line 465, in _apply_op_helper\n    values = ops.convert_to_tensor(\n  File \"/home/biolab/miniconda3/envs/tf2/lib/python3.8/site-packages/tensorflow/python/framework/ops.py\", line 1341, in convert_to_tensor\n    ret = conversion_func(value, dtype=dtype, name=name, as_ref=as_ref)\n  File \"/home/biolab/miniconda3/envs/tf2/lib/python3.8/site-packages/tensorflow/python/ops/resource_variable_ops.py\", line 1825, in _dense_var_to_tensor\n    return var._dense_var_to_tensor(dtype=dtype, name=name, as_ref=as_ref)  # pylint: disable=protected-access\n  File \"/home/biolab/miniconda3/envs/tf2/lib/python3.8/site-packages/tensorflow/python/ops/resource_variable_ops.py\", line 1242, in _dense_var_to_tensor\n    return self.value()\n  File \"/home/biolab/miniconda3/envs/tf2/lib/python3.8/site-packages/tensorflow/python/ops/resource_variable_ops.py\", line 550, in value\n    return self._read_variable_op()\n  File \"/home/biolab/miniconda3/envs/tf2/lib/python3.8/site-packages/tensorflow/python/ops/resource_variable_ops.py\", line 645, in _read_variable_op\n    result = read_and_set_handle()\n  File \"/home/biolab/miniconda3/envs/tf2/lib/python3.8/site-packages/tensorflow/python/ops/resource_variable_ops.py\", line 635, in read_and_set_handle\n    result = gen_resource_variable_ops.read_variable_op(self._handle,\n  File \"/home/biolab/miniconda3/envs/tf2/lib/python3.8/site-packages/tensorflow/python/ops/gen_resource_variable_ops.py\", line 482, in read_variable_op\n    _, _, _op, _outputs = _op_def_library._apply_op_helper(\n  File \"/home/biolab/miniconda3/envs/tf2/lib/python3.8/site-packages/tensorflow/python/framework/op_def_library.py\", line 742, in _apply_op_helper\n    op = g._create_op_internal(op_type_name, inputs, dtypes=None,\n  File \"/home/biolab/miniconda3/envs/tf2/lib/python3.8/site-packages/tensorflow/python/framework/ops.py\", line 3319, in _create_op_internal\n    ret = Operation(\n  File \"/home/biolab/miniconda3/envs/tf2/lib/python3.8/site-packages/tensorflow/python/framework/ops.py\", line 1791, in __init__\n    self._traceback = tf_stack.extract_stack()\n",
     "output_type": "error",
     "traceback": [
      "\u001b[0;31m---------------------------------------------------------------------------\u001b[0m",
      "\u001b[0;31mFailedPreconditionError\u001b[0m                   Traceback (most recent call last)",
      "\u001b[0;32m~/miniconda3/envs/tf2/lib/python3.8/site-packages/tensorflow/python/client/session.py\u001b[0m in \u001b[0;36m_do_call\u001b[0;34m(self, fn, *args)\u001b[0m\n\u001b[1;32m   1364\u001b[0m     \u001b[0;32mtry\u001b[0m\u001b[0;34m:\u001b[0m\u001b[0;34m\u001b[0m\u001b[0;34m\u001b[0m\u001b[0m\n\u001b[0;32m-> 1365\u001b[0;31m       \u001b[0;32mreturn\u001b[0m \u001b[0mfn\u001b[0m\u001b[0;34m(\u001b[0m\u001b[0;34m*\u001b[0m\u001b[0margs\u001b[0m\u001b[0;34m)\u001b[0m\u001b[0;34m\u001b[0m\u001b[0;34m\u001b[0m\u001b[0m\n\u001b[0m\u001b[1;32m   1366\u001b[0m     \u001b[0;32mexcept\u001b[0m \u001b[0merrors\u001b[0m\u001b[0;34m.\u001b[0m\u001b[0mOpError\u001b[0m \u001b[0;32mas\u001b[0m \u001b[0me\u001b[0m\u001b[0;34m:\u001b[0m\u001b[0;34m\u001b[0m\u001b[0;34m\u001b[0m\u001b[0m\n",
      "\u001b[0;32m~/miniconda3/envs/tf2/lib/python3.8/site-packages/tensorflow/python/client/session.py\u001b[0m in \u001b[0;36m_run_fn\u001b[0;34m(feed_dict, fetch_list, target_list, options, run_metadata)\u001b[0m\n\u001b[1;32m   1348\u001b[0m       \u001b[0mself\u001b[0m\u001b[0;34m.\u001b[0m\u001b[0m_extend_graph\u001b[0m\u001b[0;34m(\u001b[0m\u001b[0;34m)\u001b[0m\u001b[0;34m\u001b[0m\u001b[0;34m\u001b[0m\u001b[0m\n\u001b[0;32m-> 1349\u001b[0;31m       return self._call_tf_sessionrun(options, feed_dict, fetch_list,\n\u001b[0m\u001b[1;32m   1350\u001b[0m                                       target_list, run_metadata)\n",
      "\u001b[0;32m~/miniconda3/envs/tf2/lib/python3.8/site-packages/tensorflow/python/client/session.py\u001b[0m in \u001b[0;36m_call_tf_sessionrun\u001b[0;34m(self, options, feed_dict, fetch_list, target_list, run_metadata)\u001b[0m\n\u001b[1;32m   1440\u001b[0m                           run_metadata):\n\u001b[0;32m-> 1441\u001b[0;31m     return tf_session.TF_SessionRun_wrapper(self._session, options, feed_dict,\n\u001b[0m\u001b[1;32m   1442\u001b[0m                                             \u001b[0mfetch_list\u001b[0m\u001b[0;34m,\u001b[0m \u001b[0mtarget_list\u001b[0m\u001b[0;34m,\u001b[0m\u001b[0;34m\u001b[0m\u001b[0;34m\u001b[0m\u001b[0m\n",
      "\u001b[0;31mFailedPreconditionError\u001b[0m: 2 root error(s) found.\n  (0) Failed precondition: Error while reading resource variable siamese_model/dense_1/kernel from Container: localhost. This could mean that the variable was uninitialized. Not found: Container localhost does not exist. (Could not find resource: localhost/siamese_model/dense_1/kernel)\n\t [[{{node siamese_model/dense_1/MatMul/ReadVariableOp}}]]\n\t [[Func/gradients/siamese_model/dropout_4/cond_grad/StatelessIf/then/_757/input/_2094/_259]]\n  (1) Failed precondition: Error while reading resource variable siamese_model/dense_1/kernel from Container: localhost. This could mean that the variable was uninitialized. Not found: Container localhost does not exist. (Could not find resource: localhost/siamese_model/dense_1/kernel)\n\t [[{{node siamese_model/dense_1/MatMul/ReadVariableOp}}]]\n0 successful operations.\n0 derived errors ignored.",
      "\nDuring handling of the above exception, another exception occurred:\n",
      "\u001b[0;31mFailedPreconditionError\u001b[0m                   Traceback (most recent call last)",
      "\u001b[0;32m<ipython-input-23-8de06b49fcdc>\u001b[0m in \u001b[0;36m<module>\u001b[0;34m\u001b[0m\n\u001b[0;32m----> 1\u001b[0;31m eval_grad = sess.run(grad,\n\u001b[0m\u001b[1;32m      2\u001b[0m                      {'atom_inputs_1:0':atom_1,'bond_inputs_1:0':bond_1,'edge_inputs_1:0':edge_1,'atom_inputs_2:0':atom_2,\n\u001b[1;32m      3\u001b[0m                       'bond_inputs_2:0':bond_2,'edge_inputs_2:0':edge_2})    \n",
      "\u001b[0;32m~/miniconda3/envs/tf2/lib/python3.8/site-packages/tensorflow/python/client/session.py\u001b[0m in \u001b[0;36mrun\u001b[0;34m(self, fetches, feed_dict, options, run_metadata)\u001b[0m\n\u001b[1;32m    955\u001b[0m \u001b[0;34m\u001b[0m\u001b[0m\n\u001b[1;32m    956\u001b[0m     \u001b[0;32mtry\u001b[0m\u001b[0;34m:\u001b[0m\u001b[0;34m\u001b[0m\u001b[0;34m\u001b[0m\u001b[0m\n\u001b[0;32m--> 957\u001b[0;31m       result = self._run(None, fetches, feed_dict, options_ptr,\n\u001b[0m\u001b[1;32m    958\u001b[0m                          run_metadata_ptr)\n\u001b[1;32m    959\u001b[0m       \u001b[0;32mif\u001b[0m \u001b[0mrun_metadata\u001b[0m\u001b[0;34m:\u001b[0m\u001b[0;34m\u001b[0m\u001b[0;34m\u001b[0m\u001b[0m\n",
      "\u001b[0;32m~/miniconda3/envs/tf2/lib/python3.8/site-packages/tensorflow/python/client/session.py\u001b[0m in \u001b[0;36m_run\u001b[0;34m(self, handle, fetches, feed_dict, options, run_metadata)\u001b[0m\n\u001b[1;32m   1178\u001b[0m     \u001b[0;31m# or if the call is a partial run that specifies feeds.\u001b[0m\u001b[0;34m\u001b[0m\u001b[0;34m\u001b[0m\u001b[0;34m\u001b[0m\u001b[0m\n\u001b[1;32m   1179\u001b[0m     \u001b[0;32mif\u001b[0m \u001b[0mfinal_fetches\u001b[0m \u001b[0;32mor\u001b[0m \u001b[0mfinal_targets\u001b[0m \u001b[0;32mor\u001b[0m \u001b[0;34m(\u001b[0m\u001b[0mhandle\u001b[0m \u001b[0;32mand\u001b[0m \u001b[0mfeed_dict_tensor\u001b[0m\u001b[0;34m)\u001b[0m\u001b[0;34m:\u001b[0m\u001b[0;34m\u001b[0m\u001b[0;34m\u001b[0m\u001b[0m\n\u001b[0;32m-> 1180\u001b[0;31m       results = self._do_run(handle, final_targets, final_fetches,\n\u001b[0m\u001b[1;32m   1181\u001b[0m                              feed_dict_tensor, options, run_metadata)\n\u001b[1;32m   1182\u001b[0m     \u001b[0;32melse\u001b[0m\u001b[0;34m:\u001b[0m\u001b[0;34m\u001b[0m\u001b[0;34m\u001b[0m\u001b[0m\n",
      "\u001b[0;32m~/miniconda3/envs/tf2/lib/python3.8/site-packages/tensorflow/python/client/session.py\u001b[0m in \u001b[0;36m_do_run\u001b[0;34m(self, handle, target_list, fetch_list, feed_dict, options, run_metadata)\u001b[0m\n\u001b[1;32m   1356\u001b[0m \u001b[0;34m\u001b[0m\u001b[0m\n\u001b[1;32m   1357\u001b[0m     \u001b[0;32mif\u001b[0m \u001b[0mhandle\u001b[0m \u001b[0;32mis\u001b[0m \u001b[0;32mNone\u001b[0m\u001b[0;34m:\u001b[0m\u001b[0;34m\u001b[0m\u001b[0;34m\u001b[0m\u001b[0m\n\u001b[0;32m-> 1358\u001b[0;31m       return self._do_call(_run_fn, feeds, fetches, targets, options,\n\u001b[0m\u001b[1;32m   1359\u001b[0m                            run_metadata)\n\u001b[1;32m   1360\u001b[0m     \u001b[0;32melse\u001b[0m\u001b[0;34m:\u001b[0m\u001b[0;34m\u001b[0m\u001b[0;34m\u001b[0m\u001b[0m\n",
      "\u001b[0;32m~/miniconda3/envs/tf2/lib/python3.8/site-packages/tensorflow/python/client/session.py\u001b[0m in \u001b[0;36m_do_call\u001b[0;34m(self, fn, *args)\u001b[0m\n\u001b[1;32m   1382\u001b[0m                     \u001b[0;34m'\\nsession_config.graph_options.rewrite_options.'\u001b[0m\u001b[0;34m\u001b[0m\u001b[0;34m\u001b[0m\u001b[0m\n\u001b[1;32m   1383\u001b[0m                     'disable_meta_optimizer = True')\n\u001b[0;32m-> 1384\u001b[0;31m       \u001b[0;32mraise\u001b[0m \u001b[0mtype\u001b[0m\u001b[0;34m(\u001b[0m\u001b[0me\u001b[0m\u001b[0;34m)\u001b[0m\u001b[0;34m(\u001b[0m\u001b[0mnode_def\u001b[0m\u001b[0;34m,\u001b[0m \u001b[0mop\u001b[0m\u001b[0;34m,\u001b[0m \u001b[0mmessage\u001b[0m\u001b[0;34m)\u001b[0m\u001b[0;34m\u001b[0m\u001b[0;34m\u001b[0m\u001b[0m\n\u001b[0m\u001b[1;32m   1385\u001b[0m \u001b[0;34m\u001b[0m\u001b[0m\n\u001b[1;32m   1386\u001b[0m   \u001b[0;32mdef\u001b[0m \u001b[0m_extend_graph\u001b[0m\u001b[0;34m(\u001b[0m\u001b[0mself\u001b[0m\u001b[0;34m)\u001b[0m\u001b[0;34m:\u001b[0m\u001b[0;34m\u001b[0m\u001b[0;34m\u001b[0m\u001b[0m\n",
      "\u001b[0;31mFailedPreconditionError\u001b[0m: 2 root error(s) found.\n  (0) Failed precondition: Error while reading resource variable siamese_model/dense_1/kernel from Container: localhost. This could mean that the variable was uninitialized. Not found: Container localhost does not exist. (Could not find resource: localhost/siamese_model/dense_1/kernel)\n\t [[node siamese_model/dense_1/MatMul/ReadVariableOp (defined at /home/biolab/Documents/deepSIBA_tf2/deepSIBA_model.py:159) ]]\n\t [[Func/gradients/siamese_model/dropout_4/cond_grad/StatelessIf/then/_757/input/_2094/_259]]\n  (1) Failed precondition: Error while reading resource variable siamese_model/dense_1/kernel from Container: localhost. This could mean that the variable was uninitialized. Not found: Container localhost does not exist. (Could not find resource: localhost/siamese_model/dense_1/kernel)\n\t [[node siamese_model/dense_1/MatMul/ReadVariableOp (defined at /home/biolab/Documents/deepSIBA_tf2/deepSIBA_model.py:159) ]]\n0 successful operations.\n0 derived errors ignored.\n\nOriginal stack trace for 'siamese_model/dense_1/MatMul/ReadVariableOp':\n  File \"/home/biolab/miniconda3/envs/tf2/lib/python3.8/runpy.py\", line 194, in _run_module_as_main\n    return _run_code(code, main_globals, None,\n  File \"/home/biolab/miniconda3/envs/tf2/lib/python3.8/runpy.py\", line 87, in _run_code\n    exec(code, run_globals)\n  File \"/home/biolab/miniconda3/envs/tf2/lib/python3.8/site-packages/ipykernel_launcher.py\", line 16, in <module>\n    app.launch_new_instance()\n  File \"/home/biolab/miniconda3/envs/tf2/lib/python3.8/site-packages/traitlets/config/application.py\", line 845, in launch_instance\n    app.start()\n  File \"/home/biolab/miniconda3/envs/tf2/lib/python3.8/site-packages/ipykernel/kernelapp.py\", line 612, in start\n    self.io_loop.start()\n  File \"/home/biolab/miniconda3/envs/tf2/lib/python3.8/site-packages/tornado/platform/asyncio.py\", line 199, in start\n    self.asyncio_loop.run_forever()\n  File \"/home/biolab/miniconda3/envs/tf2/lib/python3.8/asyncio/base_events.py\", line 570, in run_forever\n    self._run_once()\n  File \"/home/biolab/miniconda3/envs/tf2/lib/python3.8/asyncio/base_events.py\", line 1859, in _run_once\n    handle._run()\n  File \"/home/biolab/miniconda3/envs/tf2/lib/python3.8/asyncio/events.py\", line 81, in _run\n    self._context.run(self._callback, *self._args)\n  File \"/home/biolab/miniconda3/envs/tf2/lib/python3.8/site-packages/tornado/ioloop.py\", line 688, in <lambda>\n    lambda f: self._run_callback(functools.partial(callback, future))\n  File \"/home/biolab/miniconda3/envs/tf2/lib/python3.8/site-packages/tornado/ioloop.py\", line 741, in _run_callback\n    ret = callback()\n  File \"/home/biolab/miniconda3/envs/tf2/lib/python3.8/site-packages/tornado/gen.py\", line 814, in inner\n    self.ctx_run(self.run)\n  File \"/home/biolab/miniconda3/envs/tf2/lib/python3.8/site-packages/tornado/gen.py\", line 775, in run\n    yielded = self.gen.send(value)\n  File \"/home/biolab/miniconda3/envs/tf2/lib/python3.8/site-packages/ipykernel/kernelbase.py\", line 365, in process_one\n    yield gen.maybe_future(dispatch(*args))\n  File \"/home/biolab/miniconda3/envs/tf2/lib/python3.8/site-packages/tornado/gen.py\", line 234, in wrapper\n    yielded = ctx_run(next, result)\n  File \"/home/biolab/miniconda3/envs/tf2/lib/python3.8/site-packages/ipykernel/kernelbase.py\", line 268, in dispatch_shell\n    yield gen.maybe_future(handler(stream, idents, msg))\n  File \"/home/biolab/miniconda3/envs/tf2/lib/python3.8/site-packages/tornado/gen.py\", line 234, in wrapper\n    yielded = ctx_run(next, result)\n  File \"/home/biolab/miniconda3/envs/tf2/lib/python3.8/site-packages/ipykernel/kernelbase.py\", line 543, in execute_request\n    self.do_execute(\n  File \"/home/biolab/miniconda3/envs/tf2/lib/python3.8/site-packages/tornado/gen.py\", line 234, in wrapper\n    yielded = ctx_run(next, result)\n  File \"/home/biolab/miniconda3/envs/tf2/lib/python3.8/site-packages/ipykernel/ipkernel.py\", line 306, in do_execute\n    res = shell.run_cell(code, store_history=store_history, silent=silent)\n  File \"/home/biolab/miniconda3/envs/tf2/lib/python3.8/site-packages/ipykernel/zmqshell.py\", line 536, in run_cell\n    return super(ZMQInteractiveShell, self).run_cell(*args, **kwargs)\n  File \"/home/biolab/miniconda3/envs/tf2/lib/python3.8/site-packages/IPython/core/interactiveshell.py\", line 2877, in run_cell\n    result = self._run_cell(\n  File \"/home/biolab/miniconda3/envs/tf2/lib/python3.8/site-packages/IPython/core/interactiveshell.py\", line 2923, in _run_cell\n    return runner(coro)\n  File \"/home/biolab/miniconda3/envs/tf2/lib/python3.8/site-packages/IPython/core/async_helpers.py\", line 68, in _pseudo_sync_runner\n    coro.send(None)\n  File \"/home/biolab/miniconda3/envs/tf2/lib/python3.8/site-packages/IPython/core/interactiveshell.py\", line 3146, in run_cell_async\n    has_raised = await self.run_ast_nodes(code_ast.body, cell_name,\n  File \"/home/biolab/miniconda3/envs/tf2/lib/python3.8/site-packages/IPython/core/interactiveshell.py\", line 3338, in run_ast_nodes\n    if (await self.run_code(code, result,  async_=asy)):\n  File \"/home/biolab/miniconda3/envs/tf2/lib/python3.8/site-packages/IPython/core/interactiveshell.py\", line 3418, in run_code\n    exec(code_obj, self.user_global_ns, self.user_ns)\n  File \"<ipython-input-14-54aeb7c64199>\", line 1, in <module>\n    siamese_net=deepsiba_model(model_params)\n  File \"/home/biolab/Documents/deepSIBA_tf2/deepSIBA_model.py\", line 199, in deepsiba_model\n    emb=siamese_model(params)(atoms0_1,bonds_1,edges_1,atoms0_2,bonds_2,edges_2)\n  File \"/home/biolab/miniconda3/envs/tf2/lib/python3.8/site-packages/tensorflow/python/keras/engine/base_layer_v1.py\", line 778, in __call__\n    outputs = call_fn(cast_inputs, *args, **kwargs)\n  File \"/home/biolab/Documents/deepSIBA_tf2/deepSIBA_model.py\", line 159, in call\n    x = self.dense2(x)\n  File \"/home/biolab/miniconda3/envs/tf2/lib/python3.8/site-packages/tensorflow/python/keras/engine/base_layer_v1.py\", line 778, in __call__\n    outputs = call_fn(cast_inputs, *args, **kwargs)\n  File \"/home/biolab/miniconda3/envs/tf2/lib/python3.8/site-packages/tensorflow/python/keras/layers/core.py\", line 1194, in call\n    outputs = gen_math_ops.mat_mul(inputs, self.kernel)\n  File \"/home/biolab/miniconda3/envs/tf2/lib/python3.8/site-packages/tensorflow/python/ops/gen_math_ops.py\", line 5585, in mat_mul\n    _, _, _op, _outputs = _op_def_library._apply_op_helper(\n  File \"/home/biolab/miniconda3/envs/tf2/lib/python3.8/site-packages/tensorflow/python/framework/op_def_library.py\", line 465, in _apply_op_helper\n    values = ops.convert_to_tensor(\n  File \"/home/biolab/miniconda3/envs/tf2/lib/python3.8/site-packages/tensorflow/python/framework/ops.py\", line 1341, in convert_to_tensor\n    ret = conversion_func(value, dtype=dtype, name=name, as_ref=as_ref)\n  File \"/home/biolab/miniconda3/envs/tf2/lib/python3.8/site-packages/tensorflow/python/ops/resource_variable_ops.py\", line 1825, in _dense_var_to_tensor\n    return var._dense_var_to_tensor(dtype=dtype, name=name, as_ref=as_ref)  # pylint: disable=protected-access\n  File \"/home/biolab/miniconda3/envs/tf2/lib/python3.8/site-packages/tensorflow/python/ops/resource_variable_ops.py\", line 1242, in _dense_var_to_tensor\n    return self.value()\n  File \"/home/biolab/miniconda3/envs/tf2/lib/python3.8/site-packages/tensorflow/python/ops/resource_variable_ops.py\", line 550, in value\n    return self._read_variable_op()\n  File \"/home/biolab/miniconda3/envs/tf2/lib/python3.8/site-packages/tensorflow/python/ops/resource_variable_ops.py\", line 645, in _read_variable_op\n    result = read_and_set_handle()\n  File \"/home/biolab/miniconda3/envs/tf2/lib/python3.8/site-packages/tensorflow/python/ops/resource_variable_ops.py\", line 635, in read_and_set_handle\n    result = gen_resource_variable_ops.read_variable_op(self._handle,\n  File \"/home/biolab/miniconda3/envs/tf2/lib/python3.8/site-packages/tensorflow/python/ops/gen_resource_variable_ops.py\", line 482, in read_variable_op\n    _, _, _op, _outputs = _op_def_library._apply_op_helper(\n  File \"/home/biolab/miniconda3/envs/tf2/lib/python3.8/site-packages/tensorflow/python/framework/op_def_library.py\", line 742, in _apply_op_helper\n    op = g._create_op_internal(op_type_name, inputs, dtypes=None,\n  File \"/home/biolab/miniconda3/envs/tf2/lib/python3.8/site-packages/tensorflow/python/framework/ops.py\", line 3319, in _create_op_internal\n    ret = Operation(\n  File \"/home/biolab/miniconda3/envs/tf2/lib/python3.8/site-packages/tensorflow/python/framework/ops.py\", line 1791, in __init__\n    self._traceback = tf_stack.extract_stack()\n"
     ]
    }
   ],
   "source": [
    "eval_grad = sess.run(grad,\n",
    "                     {'atom_inputs_1:0':atom_1,'bond_inputs_1:0':bond_1,'edge_inputs_1:0':edge_1,'atom_inputs_2:0':atom_2,\n",
    "                      'bond_inputs_2:0':bond_2,'edge_inputs_2:0':edge_2})    "
   ]
  },
  {
   "cell_type": "code",
   "execution_count": 22,
   "metadata": {},
   "outputs": [],
   "source": [
    "from math import log,exp\n",
    "m2=Chem.MolFromSmiles(smi_query[0])\n",
    "n2=m2.GetNumAtoms()\n",
    "atom_2,bond_2,edge_2=tensorise_smiles(smi_query[0:1], max_degree=5, max_atoms = 60)\n",
    "    \n",
    "all_imps2=[]\n",
    "all_imps1=[]\n",
    "kk=1\n",
    "q=0\n",
    "m1=Chem.MolFromSmiles(smis_list[q])\n",
    "n1=m1.GetNumAtoms()\n",
    "counter=smiles.index(smis_list[q])\n",
    "\n",
    "\n",
    "atom_1=X_atoms[counter:counter+1]\n",
    "bond_1=X_bonds[counter:counter+1]\n",
    "edge_1=X_edges[counter:counter+1]"
   ]
  },
  {
   "cell_type": "code",
   "execution_count": null,
   "metadata": {
    "id": "3jXRuoAr17qf"
   },
   "outputs": [],
   "source": [
    "def imp_atom_query_ensembled(smi_query,smis_list,smiles,X_atoms, X_bonds, X_edges,NUM,model_params):\n",
    "    \n",
    "    #Smiles are the already tensorised smiles of the training which are neighbors of the query smile\n",
    "    from math import log,exp\n",
    "\n",
    "    m2=Chem.MolFromSmiles(smi_query[0])\n",
    "    n2=m2.GetNumAtoms()\n",
    "    atom_2,bond_2,edge_2=tensorise_smiles(smi_query[0:1], max_degree=5, max_atoms = 60)\n",
    "    \n",
    "    all_imps2=[]\n",
    "    all_imps1=[]\n",
    "    kk=1\n",
    "    \n",
    "    for mod in range(2):\n",
    "        print('Find counts for Model:%s'%mod)\n",
    "        siamese_net=deepsiba_model(model_params)\n",
    "        siamese_net.load_weights(f'trained_models/mcf7/models/model_{mod}.h5')\n",
    "        (outputTensor, sigma) = tf.split(siamese_net.output, num_or_size_splits=[-1, 1], axis=-1)\n",
    "        inputTensor = siamese_net.input\n",
    "        grad = K.gradients(outputTensor, inputTensor)\n",
    "        grad = [grad[0],grad[1],grad[3],grad[4]]\n",
    "\n",
    "        for q in range(len(smis_list)):\n",
    "            print('Start calculating important atoms for similar %s out of %s'%(q+1,len(smis_list)))\n",
    "            m1=Chem.MolFromSmiles(smis_list[q])\n",
    "            n1=m1.GetNumAtoms()\n",
    "            counter=smiles.index(smis_list[q])\n",
    "\n",
    "\n",
    "            atom_1=X_atoms[counter:counter+1]\n",
    "            bond_1=X_bonds[counter:counter+1]\n",
    "            edge_1=X_edges[counter:counter+1]\n",
    "        \n",
    "            eval_grad = sess.run(grad,\n",
    "                                 {'atom_inputs_1:0':atom_1,'bond_inputs_1:0':bond_1,'edge_inputs_1:0':edge_1,'atom_inputs_2:0':atom_2,\n",
    "                                  'bond_inputs_2:0':bond_2,'edge_inputs_2:0':edge_2})    \n",
    "            \n",
    "            DaY=(eval_grad[2][0]*atom_2[0]).sum(axis=1)\n",
    "            atoms_grad2=np.copy(DaY)\n",
    "            import operator\n",
    "            cc={}\n",
    "            for x in range(n2):\n",
    "                c=atoms_grad2[x]\n",
    "                cc.update({x:c})\n",
    "        \n",
    "            sorted_at2=sorted(cc.items(), key=operator.itemgetter(1))\n",
    "            if (np.where(DaY>0)[0].shape[0]>=(len(sorted_at2)-round(len(sorted_at2)-NUM*n2))):\n",
    "                sorted_at2=sorted_at2[round(len(sorted_at2)-NUM*n2):len(sorted_at2)]\n",
    "            else:\n",
    "                beg=np.where(DaY>0)[0].shape[0]\n",
    "                sorted_at2=sorted_at2[beg:len(sorted_at2)]\n",
    "\n",
    "            atom_ind2=[]\n",
    "            for x in sorted_at2:\n",
    "                atom_ind2.append(x[0])\n",
    "\n",
    "            #Find intersect of important atoms    \n",
    "            if kk==1:\n",
    "                all_imps2=atom_ind2.copy()\n",
    "            else:\n",
    "                all_imps2=all_imps2+atom_ind2 \n",
    "            kk+=1\n",
    " \n",
    "        print('Ended counts for model:%s'%mod)\n",
    "        \n",
    "    \n",
    "    print('Ended ensembled important atoms calculation')\n",
    "    counts=[]\n",
    "    for x in range(n2):\n",
    "        counts.append(all_imps2.count(x))\n",
    "    counts=np.array(counts)\n",
    "        \n",
    "        \n",
    "        \n",
    "    colors_at2={}\n",
    "    colors_at2,atom_ind2=atoms_colors(m2,counts,colors_at2,n2)\n",
    "    \n",
    "    output_dict={\"counts\":counts,\"atoms\":atom_ind2,\"colors\":colors_at2}\n",
    "    print('END')\n",
    "    return output_dict"
   ]
  },
  {
   "cell_type": "code",
   "execution_count": null,
   "metadata": {
    "id": "JFKBvQZj2A3x"
   },
   "outputs": [],
   "source": [
    "#Smiles are the already tensorised smiles of the training which are neighbors of the query smile\n",
    "NUM=0.3 # percentage of top importants\n",
    "out=imp_atom_query_ensembled(smi_query,smis_list,smiles,X_atoms, X_bonds, X_edges,NUM,model_params)"
   ]
  },
  {
   "cell_type": "code",
   "execution_count": null,
   "metadata": {
    "id": "iNDFeoIp2DFf"
   },
   "outputs": [],
   "source": [
    "from cairosvg import svg2png\n",
    "m1=Chem.MolFromSmiles(smi_query[0])\n",
    "rdDepictor.Compute2DCoords(m1)\n",
    "drawer = rdMolDraw2D.MolDraw2DSVG(800,400)\n",
    "drawer.DrawMolecule(m1,highlightAtoms=list(map(int,out[\"atoms\"])),highlightAtomColors=out[\"colors\"],highlightBonds=[])\n",
    "drawer.FinishDrawing()\n",
    "svg = drawer.GetDrawingText().replace('svg:','')\n",
    "SVG(svg)"
   ]
  },
  {
   "cell_type": "code",
   "execution_count": null,
   "metadata": {
    "id": "z19Zn4o82GBI"
   },
   "outputs": [],
   "source": [
    "out_im='../results/res_imp.png'\n",
    "svg2png(bytestring=svg,write_to=out_im)"
   ]
  }
 ],
 "metadata": {
  "colab": {
   "authorship_tag": "ABX9TyPJuHizkVN7BLPw22FmfsJp",
   "collapsed_sections": [],
   "name": "important_atoms_tf2.ipynb",
   "provenance": [],
   "toc_visible": true
  },
  "kernelspec": {
   "display_name": "Python 3",
   "language": "python",
   "name": "python3"
  },
  "language_info": {
   "codemirror_mode": {
    "name": "ipython",
    "version": 3
   },
   "file_extension": ".py",
   "mimetype": "text/x-python",
   "name": "python",
   "nbconvert_exporter": "python",
   "pygments_lexer": "ipython3",
   "version": "3.8.5"
  }
 },
 "nbformat": 4,
 "nbformat_minor": 1
}
